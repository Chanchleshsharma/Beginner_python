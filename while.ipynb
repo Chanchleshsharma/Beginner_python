{
 "cells": [
  {
   "cell_type": "code",
   "execution_count": 1,
   "metadata": {},
   "outputs": [
    {
     "name": "stdout",
     "output_type": "stream",
     "text": [
      "1 hello world\n",
      "2 hello world\n",
      "3 hello world\n",
      "4 hello world\n",
      "5 hello world\n",
      "6 hello world\n",
      "7 hello world\n"
     ]
    }
   ],
   "source": [
    "i=1\n",
    "while i<8:\n",
    "    print(i,\"hello world\")\n",
    "    i=i+1\n",
    "    "
   ]
  },
  {
   "cell_type": "code",
   "execution_count": 7,
   "metadata": {},
   "outputs": [
    {
     "name": "stdout",
     "output_type": "stream",
     "text": [
      "1 hello world\n",
      "2 hello world\n",
      "3 hello world\n",
      "4 hello world\n",
      "6 hello world\n",
      "7 hello world\n"
     ]
    }
   ],
   "source": [
    "i=1\n",
    "while i<8:\n",
    "    if i==5:\n",
    "        i=i+1\n",
    "        continue\n",
    "    print(i,\"hello world\")\n",
    "    i=i+1\n",
    "    "
   ]
  },
  {
   "cell_type": "code",
   "execution_count": 9,
   "metadata": {},
   "outputs": [
    {
     "name": "stdout",
     "output_type": "stream",
     "text": [
      "1 this is me\n",
      "2 this is me\n",
      "3 this is me\n",
      "4 this is me\n"
     ]
    }
   ],
   "source": [
    "i=1\n",
    "while i <9:\n",
    "    print(i,\"this is me\")\n",
    "    i+=1\n",
    "    if i==5:\n",
    "        break\n",
    "   \n"
   ]
  },
  {
   "cell_type": "code",
   "execution_count": 10,
   "metadata": {},
   "outputs": [
    {
     "name": "stdout",
     "output_type": "stream",
     "text": [
      "1 this is me\n",
      "2 this is me\n",
      "3 this is me\n",
      "4 this is me\n",
      "5 this is me\n"
     ]
    }
   ],
   "source": [
    "i=1\n",
    "while i <9:\n",
    "    print(i,\"this is me\")\n",
    "   \n",
    "    if i==5:\n",
    "        break\n",
    "    i+=1"
   ]
  },
  {
   "cell_type": "code",
   "execution_count": 3,
   "metadata": {},
   "outputs": [
    {
     "name": "stdout",
     "output_type": "stream",
     "text": [
      "1 hello world\n",
      "2 hello world\n",
      "3 hello world\n",
      "4 hello world\n",
      "6 hello world\n",
      "7 hello world\n"
     ]
    }
   ],
   "source": [
    "i=1\n",
    "while i<8:\n",
    "    if i==5:\n",
    "        i=i+1\n",
    "        continue\n",
    "    print(i,\"hello world\")\n",
    "    i=i+1"
   ]
  },
  {
   "cell_type": "code",
   "execution_count": 12,
   "metadata": {},
   "outputs": [
    {
     "name": "stdout",
     "output_type": "stream",
     "text": [
      "Its Developer NO: 2\n",
      "Its Developer NO: 3\n",
      "Its Developer NO: 4\n",
      "Its Developer NO: 5\n",
      "Its Developer NO: 7\n",
      "Its Developer NO: 8\n",
      "Its Developer NO: 9\n"
     ]
    }
   ],
   "source": [
    "# i=0\n",
    "# while i<7:\n",
    "#     if i==5:\n",
    "#         i+=1\n",
    "#         continue\n",
    "#     print(i,\"Its Developer\")\n",
    "#     i+=1\n",
    "a=2\n",
    "while a<10:\n",
    "    if a==6:\n",
    "        a+=1\n",
    "        continue\n",
    "    print(\"Its Developer NO:\",a)\n",
    "    if a==9:\n",
    "        break\n",
    "   \n",
    "\n",
    "    a+=1"
   ]
  },
  {
   "cell_type": "code",
   "execution_count": 2,
   "metadata": {},
   "outputs": [
    {
     "name": "stdout",
     "output_type": "stream",
     "text": [
      "0 hello world\n",
      "1 hello world\n",
      "2 hello world\n",
      "3 hello world\n",
      "4 hello world\n",
      "6 hello world\n"
     ]
    }
   ],
   "source": [
    "\n",
    "i=1\n",
    "\n",
    "while i<8:\n",
    "    if i-1==5:\n",
    "        i=i+1\n",
    "        continue\n",
    "    print(i-1,\"hello world\")\n",
    "    i=i+1   "
   ]
  },
  {
   "cell_type": "code",
   "execution_count": 4,
   "metadata": {},
   "outputs": [
    {
     "name": "stdout",
     "output_type": "stream",
     "text": [
      "{65, 66, 68, 44, 55}\n"
     ]
    }
   ],
   "source": []
  },
  {
   "cell_type": "code",
   "execution_count": 6,
   "metadata": {},
   "outputs": [
    {
     "name": "stdout",
     "output_type": "stream",
     "text": [
      "1 *2= 2\n",
      "2 *2= 4\n",
      "3 *2= 6\n",
      "4 *2= 8\n",
      "5 *2= 10\n",
      "6 *2= 12\n",
      "7 *2= 14\n",
      "8 *2= 16\n",
      "9 *2= 18\n",
      "10 *2= 20\n"
     ]
    }
   ],
   "source": [
    "a=int(input(\"Enter table of :\"))\n",
    "i=1\n",
    "while i<=10:\n",
    "    print(i,\"*\",a,\"=\",a*i)\n",
    "    i+=1"
   ]
  }
 ],
 "metadata": {
  "kernelspec": {
   "display_name": "Python 3",
   "language": "python",
   "name": "python3"
  },
  "language_info": {
   "codemirror_mode": {
    "name": "ipython",
    "version": 3
   },
   "file_extension": ".py",
   "mimetype": "text/x-python",
   "name": "python",
   "nbconvert_exporter": "python",
   "pygments_lexer": "ipython3",
   "version": "3.11.1"
  },
  "orig_nbformat": 4,
  "vscode": {
   "interpreter": {
    "hash": "b98f472bb8ba48098397e3b897b5be76f7bf0e62d98845cdb0e8066dc5677259"
   }
  }
 },
 "nbformat": 4,
 "nbformat_minor": 2
}
