{
 "cells": [
  {
   "cell_type": "code",
   "execution_count": null,
   "metadata": {},
   "outputs": [],
   "source": [
    "name=input(\"Enter Your Name :\")\n"
   ]
  },
  {
   "attachments": {},
   "cell_type": "markdown",
   "metadata": {},
   "source": [
    "casting:--- conversion of one data type to other data tpye\n",
    "2.for example ---> int to float ,float to int ,int to string ,string to int etc.\n",
    " "
   ]
  },
  {
   "cell_type": "code",
   "execution_count": 3,
   "metadata": {},
   "outputs": [
    {
     "name": "stdout",
     "output_type": "stream",
     "text": [
      "10 <class 'str'>\n",
      "10 <class 'int'>\n"
     ]
    }
   ],
   "source": [
    "#Casting....\n",
    "a=10\n",
    "b=str(a)\n",
    "print(b ,type(b))\n",
    "print(a,type(a))"
   ]
  },
  {
   "cell_type": "code",
   "execution_count": 5,
   "metadata": {},
   "outputs": [
    {
     "name": "stdout",
     "output_type": "stream",
     "text": [
      "12.0 <class 'str'>\n",
      "12.0 <class 'float'>\n",
      "12 <class 'int'>\n"
     ]
    }
   ],
   "source": [
    "#interview\n",
    "# string to int \n",
    "I=\"12.0\"\n",
    "print(I,type(I))\n",
    "J=float(I)\n",
    "print(J,type(J))\n",
    "K=int(J)\n",
    "print(K,type(K))\n"
   ]
  },
  {
   "cell_type": "code",
   "execution_count": 13,
   "metadata": {},
   "outputs": [
    {
     "name": "stdout",
     "output_type": "stream",
     "text": [
      "12 <class 'int'>\n",
      "12.0  <class 'str'>\n"
     ]
    }
   ],
   "source": [
    "i=\"12.0 \"\n",
    "print(int(float(i)),type(int(float(i))))\n",
    "print(i,type(i))\n"
   ]
  },
  {
   "cell_type": "code",
   "execution_count": 10,
   "metadata": {},
   "outputs": [
    {
     "name": "stdout",
     "output_type": "stream",
     "text": [
      "17 <class 'int'>\n"
     ]
    }
   ],
   "source": [
    "j='17.0'\n",
    "k=float(j)\n",
    "l=int(k)\n",
    "print(l,type(l))"
   ]
  },
  {
   "cell_type": "code",
   "execution_count": 14,
   "metadata": {},
   "outputs": [
    {
     "name": "stdout",
     "output_type": "stream",
     "text": [
      "20 32 52\n"
     ]
    }
   ],
   "source": [
    "#string to int casting\n",
    "num1=int(input(\"Enter Your first Num:\"))\n",
    "num2=int(input(\"Enter Your secont num:\"))\n",
    "print(num1+num2)"
   ]
  },
  {
   "cell_type": "code",
   "execution_count": 16,
   "metadata": {},
   "outputs": [
    {
     "name": "stdout",
     "output_type": "stream",
     "text": [
      "20 <class 'int'>\n"
     ]
    }
   ],
   "source": [
    "print(num1,type(num1))"
   ]
  },
  {
   "cell_type": "code",
   "execution_count": 17,
   "metadata": {},
   "outputs": [
    {
     "name": "stdout",
     "output_type": "stream",
     "text": [
      "24\n"
     ]
    }
   ],
   "source": [
    "#string to float to int\n",
    "num1=int(float(input(\"Enter Your first Num:\")))\n",
    "num2=int(float(input(\"Enter Your secont num:\")))\n",
    "print(num1+num2)  # 12.39 + 13.45"
   ]
  },
  {
   "cell_type": "code",
   "execution_count": 18,
   "metadata": {},
   "outputs": [
    {
     "name": "stdout",
     "output_type": "stream",
     "text": [
      "78.21000000000001\n"
     ]
    }
   ],
   "source": [
    "num1=eval(input(\"Enter Your first Num:\"))\n",
    "num2=eval(input(\"Enter Your secont num:\"))\n",
    "print(num1+num2)"
   ]
  },
  {
   "cell_type": "code",
   "execution_count": 21,
   "metadata": {},
   "outputs": [
    {
     "name": "stdout",
     "output_type": "stream",
     "text": [
      "46.25\n"
     ]
    }
   ],
   "source": [
    "num1=(input(\"Enter Your first Num:\"))\n",
    "num2=(input(\"Enter Your secont num:\"))\n",
    "print(eval(num1)+eval(num2))"
   ]
  },
  {
   "cell_type": "code",
   "execution_count": null,
   "metadata": {},
   "outputs": [],
   "source": []
  }
 ],
 "metadata": {
  "kernelspec": {
   "display_name": "Python 3",
   "language": "python",
   "name": "python3"
  },
  "language_info": {
   "codemirror_mode": {
    "name": "ipython",
    "version": 3
   },
   "file_extension": ".py",
   "mimetype": "text/x-python",
   "name": "python",
   "nbconvert_exporter": "python",
   "pygments_lexer": "ipython3",
   "version": "3.11.1"
  },
  "orig_nbformat": 4,
  "vscode": {
   "interpreter": {
    "hash": "b98f472bb8ba48098397e3b897b5be76f7bf0e62d98845cdb0e8066dc5677259"
   }
  }
 },
 "nbformat": 4,
 "nbformat_minor": 2
}
