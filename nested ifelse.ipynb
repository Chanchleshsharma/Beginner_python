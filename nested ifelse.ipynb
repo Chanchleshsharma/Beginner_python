{
 "cells": [
  {
   "cell_type": "code",
   "execution_count": 7,
   "metadata": {},
   "outputs": [
    {
     "name": "stdout",
     "output_type": "stream",
     "text": [
      "kindly enter valid pin:\n",
      "Welcome to My bank\n",
      "kindly collect your Amount 9000\n"
     ]
    }
   ],
   "source": [
    "#nested if else\n",
    "# input(\"Enter Your Atm Pin:\")\n",
    "# print(\"hello\")\n",
    "a=input(\"Enter YOur ATM Pin :\")\n",
    "if a==\"9430\":\n",
    "    print(\"Welcome to Kotak mahindra bank\")\n",
    "    balance=int(input(\"kindly Enter Your Amount:\"))\n",
    "    if balance<=20000:\n",
    "        print(\"kindly collect your Amount\",balance)\n",
    "    else:\n",
    "        print(\"sorry insufficient fund!\")\n",
    "else:\n",
    "    print(\"kindly enter valid pin:\")\n",
    "    a=input(\"Enter YOur ATM Pin :\")\n",
    "    if a==\"9430\":\n",
    "        print(\"Welcome to Kotak mahindra bank\")\n",
    "        balance=int(input(\"kindly Enter Your Amount:\"))\n",
    "        if balance<=20000:\n",
    "            print(\"kindly collect your Amount\",balance)\n",
    "        else:\n",
    "            print(\"insufficient fund!\")\n",
    "    else:\n",
    "        print(\"bye!\")"
   ]
  },
  {
   "cell_type": "code",
   "execution_count": 8,
   "metadata": {},
   "outputs": [
    {
     "name": "stdout",
     "output_type": "stream",
     "text": [
      "kindly re enter valid pin:\n",
      "Welcome to Kotak mahindra bank\n",
      "kindly collect your Amount 7000\n"
     ]
    }
   ],
   "source": [
    "a=input(\"Enter YOur ATM Pin :\")\n",
    "if a==\"9430\":\n",
    "    print(\"Welcome to Kotak mahindra bank\")\n",
    "    balance=int(input(\"kindly Enter Your Amount:\"))\n",
    "    if balance<=20000:\n",
    "        print(\"kindly collect your Amount\",balance)\n",
    "    else:\n",
    "        print(\"sorry insufficient fund!\")\n",
    "else:\n",
    "    print(\"kindly re enter valid pin:\")\n",
    "    a=input(\"Enter YOur ATM Pin :\")\n",
    "    if a==\"9430\":\n",
    "        print(\"Welcome to Kotak mahindra bank\")\n",
    "        balance=int(input(\"kindlyre- Enter Your Amount:\"))\n",
    "        if balance<=20000:\n",
    "            print(\"kindly collect your Amount\",balance)\n",
    "        else:\n",
    "            print(\"insufficient fund!\")\n",
    "    else:\n",
    "        print(\"Contact to Branch:\")"
   ]
  }
 ],
 "metadata": {
  "kernelspec": {
   "display_name": "Python 3",
   "language": "python",
   "name": "python3"
  },
  "language_info": {
   "codemirror_mode": {
    "name": "ipython",
    "version": 3
   },
   "file_extension": ".py",
   "mimetype": "text/x-python",
   "name": "python",
   "nbconvert_exporter": "python",
   "pygments_lexer": "ipython3",
   "version": "3.11.1"
  },
  "orig_nbformat": 4,
  "vscode": {
   "interpreter": {
    "hash": "b98f472bb8ba48098397e3b897b5be76f7bf0e62d98845cdb0e8066dc5677259"
   }
  }
 },
 "nbformat": 4,
 "nbformat_minor": 2
}
